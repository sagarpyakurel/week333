{
  "nbformat": 4,
  "nbformat_minor": 0,
  "metadata": {
    "colab": {
      "provenance": [],
      "authorship_tag": "ABX9TyOnjpPKo5nofjy16cGZJybl",
      "include_colab_link": true
    },
    "kernelspec": {
      "name": "python3",
      "display_name": "Python 3"
    },
    "language_info": {
      "name": "python"
    }
  },
  "cells": [
    {
      "cell_type": "markdown",
      "metadata": {
        "id": "view-in-github",
        "colab_type": "text"
      },
      "source": [
        "<a href=\"https://colab.research.google.com/github/sagarpyakurel/week333/blob/main/Week_3_Assignment_(Graph_topology_sorting).ipynb\" target=\"_parent\"><img src=\"https://colab.research.google.com/assets/colab-badge.svg\" alt=\"Open In Colab\"/></a>"
      ]
    },
    {
      "cell_type": "markdown",
      "source": [
        "\n",
        "**Your assignment** <br>\n",
        "Implement the topological ordering algorithm described, as a proof, earlier in the notebook. The proof is inherently recursive. Your implementation may be recursive or iterative. Or, if you feel up to it, you can write two implementations: a recursive and an iterative one. If you go recursive, you may want to consider a helper function to kick in the recursion.\n",
        "\n"
      ],
      "metadata": {
        "id": "jsDbMtidS2Hu"
      }
    },
    {
      "cell_type": "code",
      "source": [
        "from collections import deque\n",
        "\n",
        "def topological_sort_iterative(adjacency_list):\n",
        "    num_vertices = len(adjacency_list)\n",
        "    in_degrees = [0] * num_vertices  # in-degree for each vertex\n",
        "\n",
        "    # Calculate the in-degree for each vertex\n",
        "    for vertex in range(num_vertices):\n",
        "        for neighbor in adjacency_list[vertex]:\n",
        "            in_degrees[neighbor] += 1\n",
        "\n",
        "    queue = deque([vertex for vertex in range(num_vertices) if in_degrees[vertex] == 0])\n",
        "    topological_order = []  # This will store the topological ordering\n",
        "\n",
        "    while queue:\n",
        "        current_vertex = queue.popleft()  # Process the next vertex with in-degree 0\n",
        "        topological_order.append(current_vertex)  # Add to the topological order\n",
        "\n",
        "\n",
        "        for neighbor in adjacency_list[current_vertex]:\n",
        "            in_degrees[neighbor] -= 1  # \"Remove\" the edge\n",
        "            if in_degrees[neighbor] == 0:\n",
        "                queue.append(neighbor)  # Add new source vertex to the queue\n",
        "\n",
        "\n",
        "    if len(topological_order) == num_vertices:\n",
        "        return topological_order\n",
        "    else:\n",
        "        return []  # Return empty list if there's a cycle\n",
        "\n",
        "adjacency_list = [[1,5,6], [2,4], [4,3],[], [3],[2,1],[2,3,5]]\n",
        "\n",
        "# Perform topological sort\n",
        "topological_order = topological_sort_iterative(adjacency_list)\n",
        "print(\"Topological Order by iterative:\", topological_order)"
      ],
      "metadata": {
        "colab": {
          "base_uri": "https://localhost:8080/"
        },
        "id": "JgYA8PyQS4U4",
        "outputId": "3e6f521e-0ef0-4bed-d21d-7218394b878c"
      },
      "execution_count": null,
      "outputs": [
        {
          "output_type": "stream",
          "name": "stdout",
          "text": [
            "Topological Order by iterative: [0, 6, 5, 1, 2, 4, 3]\n"
          ]
        }
      ]
    },
    {
      "cell_type": "code",
      "source": [
        "def topological_sort_recursive(adjacency_list):\n",
        "    num_vertices = len(adjacency_list)\n",
        "    visited = [False] * num_vertices  # To track visited vertices\n",
        "    rec_stack = [False] * num_vertices  # To track the recursion stack for cycle detection\n",
        "    topological_order_stack = []  # Stack to store the topological order\n",
        "    cycle_detected = False  # Flag to detect cycles\n",
        "\n",
        "    def dfs(vertex):\n",
        "        nonlocal cycle_detected\n",
        "        if cycle_detected:\n",
        "            return\n",
        "\n",
        "        visited[vertex] = True  # Mark the vertex as visited\n",
        "        rec_stack[vertex] = True  # Mark the vertex as being part of the current recursion stack\n",
        "\n",
        "\n",
        "        for neighbor in adjacency_list[vertex]:\n",
        "            if not visited[neighbor]:  # If the neighbor hasn't been visited, recurse on it\n",
        "                dfs(neighbor)\n",
        "            elif rec_stack[neighbor]:  # If the neighbor is in the recursion stack, it's a cycle\n",
        "                cycle_detected = True\n",
        "                return\n",
        "\n",
        "        rec_stack[vertex] = False  # Remove the vertex from the recursion stack\n",
        "        topological_order_stack.append(vertex)  # Add the vertex to the topological order stack\n",
        "\n",
        "    # Call DFS from each vertex that hasn't been visited\n",
        "    for v in range(num_vertices):\n",
        "        if not visited[v]:\n",
        "            dfs(v)\n",
        "\n",
        "    if cycle_detected:\n",
        "        return []  # Return an empty list if a cycle is detected\n",
        "\n",
        "    # Return the vertices in reverse order of the completion time\n",
        "    return topological_order_stack[::-1]\n",
        "\n",
        "# Example graph (DAG)\n",
        "adjacency_list = [[1, 5, 6], [2, 4], [4, 3],[], [3], [2, 1], [2, 3, 5]]\n",
        "\n",
        "topological_order = topological_sort_recursive(adjacency_list)\n",
        "print(\"Topological Order by recursive:\", topological_order)\n"
      ],
      "metadata": {
        "colab": {
          "base_uri": "https://localhost:8080/"
        },
        "id": "MbPUTfaQN4Vu",
        "outputId": "afb4cc08-d9c7-46d5-f0b2-560c432bf6a2"
      },
      "execution_count": null,
      "outputs": [
        {
          "output_type": "stream",
          "name": "stdout",
          "text": [
            "Topological Order by recursive: [0, 6, 5, 1, 2, 4, 3]\n"
          ]
        }
      ]
    }
  ]
}